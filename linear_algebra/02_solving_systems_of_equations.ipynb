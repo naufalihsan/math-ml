{
 "cells": [
  {
   "cell_type": "code",
   "execution_count": 157,
   "metadata": {},
   "outputs": [],
   "source": [
    "import numpy as np\n",
    "import sympy as sp\n",
    "import matplotlib.pyplot as plt"
   ]
  },
  {
   "cell_type": "markdown",
   "metadata": {},
   "source": [
    "### Solving Non-Singular System of Linear Equations"
   ]
  },
  {
   "cell_type": "markdown",
   "metadata": {},
   "source": [
    "#### Material"
   ]
  },
  {
   "cell_type": "markdown",
   "metadata": {},
   "source": [
    "Process Manipulating Equations:\n",
    "- Swapping equations\n",
    "- Adding / subtracting equations\n",
    "- Multiplying / dividing equations by a constant"
   ]
  },
  {
   "cell_type": "markdown",
   "metadata": {},
   "source": [
    "**System:**\n",
    "\n",
    "- $5a + b = 17$\n",
    "- $4a - 3b = 6$"
   ]
  },
  {
   "cell_type": "markdown",
   "metadata": {},
   "source": [
    "Divide by coefficient of a\n",
    "\n",
    "\\begin{align*}\n",
    "    a + 0.2b &= 3.4     \\\\\n",
    "    a - 0.75b &= 1.5    \\\\\n",
    "                        \\\\\n",
    "    0.95b &= 1.9        \\\\\n",
    "    b &= 2              \\\\\n",
    "    a &= 3\n",
    "\\end{align*}\n",
    "\n",
    "Solved System:\n",
    "- $a = 3$\n",
    "- $b = 2$"
   ]
  },
  {
   "cell_type": "markdown",
   "metadata": {},
   "source": [
    "#### Quiz"
   ]
  },
  {
   "cell_type": "markdown",
   "metadata": {},
   "source": [
    "System:\n",
    "\n",
    "- $2a + 5b = 46$\n",
    "- $8a + b = 32$"
   ]
  },
  {
   "cell_type": "markdown",
   "metadata": {},
   "source": [
    "Step 1: Multiply Eq I with constant 4\n",
    "\n",
    "\\begin{align*}\n",
    "  (2a + 5b = 46) * 4 \\\\\n",
    "  8a + 10b = 184\n",
    "\\end{align*}\n",
    "\n",
    "Step 2: Subtract Eq from Step 1 and Eq II\n",
    "\n",
    "\\begin{align*}\n",
    "    8a + 20b &= 184     \\\\\n",
    "    8a + b &= 32        \\\\\n",
    "                        \\\\\n",
    "    19b &= 152          \\\\\n",
    "    b   &= 8            \\\\\n",
    "    a   &= 3a\n",
    "\\end{align*}\n",
    "\n",
    "Solved System:\n",
    "- $a = 3$\n",
    "- $b = 8a$"
   ]
  },
  {
   "cell_type": "markdown",
   "metadata": {},
   "source": [
    "### Solving Singular System of Linear Equations"
   ]
  },
  {
   "cell_type": "markdown",
   "metadata": {},
   "source": [
    "#### Material"
   ]
  },
  {
   "cell_type": "markdown",
   "metadata": {},
   "source": [
    "**System: (Redundant)**\n",
    "\n",
    "- $a + b = 10$\n",
    "- $2a + 2b = 20$"
   ]
  },
  {
   "cell_type": "markdown",
   "metadata": {},
   "source": [
    "Step 1: Divide Eq II with constant 2\n",
    "\n",
    "\\begin{align*}\n",
    "  (2a + 2b = 20) / 2 \\\\\n",
    "  a + b = 10\n",
    "\\end{align*}\n",
    "\n",
    "Step 2: Subtract Eq from Step 1 and Eq II\n",
    "\n",
    "\\begin{align*}\n",
    "    a + b &= 10     \\\\\n",
    "    a + b &= 10     \\\\\n",
    "                    \\\\\n",
    "    0 &= 0          \n",
    "\\end{align*}\n",
    "\n",
    "Solved System:\n",
    "1. Degree of freedom\n",
    "    - $a = x$\n",
    "    - $b = 10 - x$\n",
    "2. $a + b = 10$"
   ]
  },
  {
   "cell_type": "markdown",
   "metadata": {},
   "source": [
    "**System: (Contradictory)**\n",
    "\n",
    "- $a + b = 10$\n",
    "- $2a + 2b = 24$"
   ]
  },
  {
   "cell_type": "markdown",
   "metadata": {},
   "source": [
    "Step 1: Divide Eq II with constant 2\n",
    "\n",
    "\\begin{align*}\n",
    "  (2a + 2b = 24) / 2 \\\\\n",
    "  a + b = 12\n",
    "\\end{align*}\n",
    "\n",
    "Step 2: Subtract Eq from Step 1 and Eq II\n",
    "\n",
    "\\begin{align*}\n",
    "    a + b &= 10     \\\\\n",
    "    a + b &= 12     \\\\\n",
    "                    \\\\\n",
    "    0 &= 2          \n",
    "\\end{align*}\n",
    "\n",
    "No solved system"
   ]
  },
  {
   "cell_type": "markdown",
   "metadata": {},
   "source": [
    "#### Quiz"
   ]
  },
  {
   "cell_type": "markdown",
   "metadata": {},
   "source": [
    "**System: (Redundant)**\n",
    "\n",
    "- $5a + b = 11$\n",
    "- $10a + 2b = 22$"
   ]
  },
  {
   "cell_type": "markdown",
   "metadata": {},
   "source": [
    "Step 1: Multiply Eq I with constant 2\n",
    "\n",
    "\\begin{align*}\n",
    "  (5a + b = 11) * 2 \\\\\n",
    "  10a + 2b = 22\n",
    "\\end{align*}\n",
    "\n",
    "Step 2: Subtract Eq from Step 1 and Eq II\n",
    "\n",
    "\\begin{align*}\n",
    "    10a + 2b &= 22     \\\\\n",
    "    10a + 2b &= 22     \\\\\n",
    "                        \\\\\n",
    "    0 &= 0          \n",
    "\\end{align*}\n",
    "\n",
    "\n",
    "Solved System (Infinite Solutions):\n",
    "1. Degree of freedom\n",
    "    - $a = x$\n",
    "    - $b = 11 - 5x$\n",
    "2. $5a + b = 11$"
   ]
  },
  {
   "cell_type": "markdown",
   "metadata": {},
   "source": [
    "### Solving System of Equations with More Variables"
   ]
  },
  {
   "cell_type": "markdown",
   "metadata": {},
   "source": [
    "#### Material"
   ]
  },
  {
   "cell_type": "markdown",
   "metadata": {},
   "source": [
    "System:\n",
    "\n",
    "- $a + b + 2c = 12$\n",
    "- $3a - 3b - c = 3$\n",
    "- $2a - b + 6c = 24$"
   ]
  },
  {
   "cell_type": "markdown",
   "metadata": {},
   "source": [
    "**Elimination Method**"
   ]
  },
  {
   "cell_type": "markdown",
   "metadata": {},
   "source": [
    "Step 1: Isolated $a$ (solved Eq II & III)\n",
    "\n",
    "a. Divide Eq II with constant 3\n",
    "\\begin{align*}\n",
    "  (3a - 3b - c = 3) / 3 \\\\\n",
    "  a - b - \\frac{1}{3}c = 1\n",
    "\\end{align*}\n",
    "\n",
    "b. Divide Eq III with constant 2\n",
    "\\begin{align*}\n",
    "  (2a - b + 6c = 24) / 2 \\\\\n",
    "  a - \\frac{1}{2}b + 3c = 12\n",
    "\\end{align*}\n",
    "\n",
    "c. Subtract Eq I & Eq from Step 1a\n",
    "\n",
    "\\begin{align*}\n",
    "  a + b + 2c &= 12 \\\\\n",
    "  a - b - \\frac{1}{3}c &= 1 \\\\\n",
    "  \\\\\n",
    "  2b + \\frac{7}{3}c &= 11\n",
    "\\end{align*}\n",
    "\n",
    "\n",
    "d. Subtract Eq I & Eq from Step 1b\n",
    "\n",
    "\\begin{align*}\n",
    "  a + b + 2c &= 12 \\\\\n",
    "  a - \\frac{1}{2}b + 3c &= 12 \\\\\n",
    "  \\\\\n",
    "  \\frac{3}{2}b - c &= 0\n",
    "\\end{align*}"
   ]
  },
  {
   "cell_type": "markdown",
   "metadata": {},
   "source": [
    "Step 2: Isolated $b$ (Eq from Step 1c & 1d)\n",
    "\n",
    "a. Divide Eq 1c with constant 2\n",
    "\\begin{align*}\n",
    "  (2b + \\frac{7}{3}c = 11) / 2 \\\\\n",
    "  b + \\frac{7}{6}c = \\frac{11}{2}\n",
    "\\end{align*}\n",
    "\n",
    "b. Multiply Eq 1d with constant 2/3\n",
    "\\begin{align*}\n",
    "  (\\frac{3}{2}b - c = 0) * \\frac{2}{3} \\\\\n",
    "  b - \\frac{2}{3}c = 0\n",
    "\\end{align*}\n",
    "\n",
    "c. Subtract Eq from Step 2a & 2b\n",
    "\n",
    "\\begin{align*}\n",
    "  b + \\frac{7}{6}c &= \\frac{11}{2} \\\\\n",
    "  b - \\frac{2}{3}c &= 0 \\\\\n",
    "  \\\\\n",
    "  \\frac{11}{6} c &= \\frac{11}{2} \\\\\n",
    "  \\\\\n",
    "  c &= 3\n",
    "\\end{align*}\n",
    "\n",
    "d. Replace c in Eq from Step 2a\n",
    "\\begin{align*}\n",
    "  b + \\frac{7}{6} * 3 &= \\frac{11}{2} \\\\\n",
    "  b + \\frac{7}{2} &= \\frac{11}{2} \\\\\n",
    "  \\\\\n",
    "  b &= 2\n",
    "\\end{align*}\n",
    "\n",
    "e. Replace c & b  in Eq I\n",
    "\\begin{align*}\n",
    "a + 2 + 2 * 3 &= 12 \\\\\n",
    "a + 2 + 6 &= 12 \\\\\n",
    "\\\\\n",
    "a &= 4\n",
    "\\end{align*}"
   ]
  },
  {
   "cell_type": "code",
   "execution_count": 168,
   "metadata": {},
   "outputs": [
    {
     "data": {
      "text/plain": [
       "array([4., 2., 3.])"
      ]
     },
     "execution_count": 168,
     "metadata": {},
     "output_type": "execute_result"
    }
   ],
   "source": [
    "np.linalg.solve([[1,1,2],\n",
    "                [3,-3,-1],\n",
    "                [2,-1,6]], [12,3,24])"
   ]
  },
  {
   "cell_type": "markdown",
   "metadata": {},
   "source": [
    "### Rank of a Matrix"
   ]
  },
  {
   "cell_type": "markdown",
   "metadata": {},
   "source": [
    "#### Material"
   ]
  },
  {
   "cell_type": "markdown",
   "metadata": {},
   "source": [
    "System:\n",
    "\n",
    "- $a + b = 0$\n",
    "- $a + 2b = 0$"
   ]
  },
  {
   "cell_type": "code",
   "execution_count": 170,
   "metadata": {},
   "outputs": [],
   "source": [
    "matrix_1 = sp.Matrix([[1, 1],\n",
    "                      [1, 2]])"
   ]
  },
  {
   "cell_type": "code",
   "execution_count": 171,
   "metadata": {},
   "outputs": [
    {
     "data": {
      "text/plain": [
       "2"
      ]
     },
     "execution_count": 171,
     "metadata": {},
     "output_type": "execute_result"
    }
   ],
   "source": [
    "matrix_1.rank()"
   ]
  },
  {
   "cell_type": "markdown",
   "metadata": {},
   "source": [
    "- Two Equations, Two pieces of information\n",
    "- Dimension of solution space = 0\n",
    "- Rank = 2"
   ]
  },
  {
   "cell_type": "markdown",
   "metadata": {},
   "source": [
    "System: \n",
    "\n",
    "- $a + b = 0$\n",
    "- $2a + 2b = 0$"
   ]
  },
  {
   "cell_type": "code",
   "execution_count": 172,
   "metadata": {},
   "outputs": [],
   "source": [
    "matrix_2 = sp.Matrix([[1, 1],\n",
    "                      [2, 2]])"
   ]
  },
  {
   "cell_type": "code",
   "execution_count": 173,
   "metadata": {},
   "outputs": [
    {
     "data": {
      "text/plain": [
       "1"
      ]
     },
     "execution_count": 173,
     "metadata": {},
     "output_type": "execute_result"
    }
   ],
   "source": [
    "matrix_2.rank()"
   ]
  },
  {
   "cell_type": "markdown",
   "metadata": {},
   "source": [
    "- Two Equations, One piece of information\n",
    "- Dimension of solution space = 1\n",
    "- Rank = 1"
   ]
  },
  {
   "cell_type": "markdown",
   "metadata": {},
   "source": [
    "System:\n",
    "\n",
    "- $0a + 0b = 0$\n",
    "- $0a + 0b = 0$"
   ]
  },
  {
   "cell_type": "markdown",
   "metadata": {},
   "source": [
    "- Two Equations, Zero pieces of information\n",
    "- Dimension of solution space = 2\n",
    "- Rank = 2"
   ]
  },
  {
   "cell_type": "markdown",
   "metadata": {},
   "source": [
    "#### Quiz"
   ]
  },
  {
   "cell_type": "markdown",
   "metadata": {},
   "source": [
    "Problem:\n",
    "\n",
    "- Determine the rank of the following two matrices"
   ]
  },
  {
   "cell_type": "code",
   "execution_count": 8,
   "metadata": {},
   "outputs": [
    {
     "data": {
      "text/plain": [
       "array([[ 5,  1],\n",
       "       [-1,  3]])"
      ]
     },
     "execution_count": 8,
     "metadata": {},
     "output_type": "execute_result"
    }
   ],
   "source": [
    "np.array([[5,1],\n",
    "          [-1,3]])"
   ]
  },
  {
   "cell_type": "markdown",
   "metadata": {},
   "source": [
    "- Dimension of solution = 0\n",
    "- Rank = 2"
   ]
  },
  {
   "cell_type": "code",
   "execution_count": 9,
   "metadata": {},
   "outputs": [
    {
     "data": {
      "text/plain": [
       "array([[ 2, -1],\n",
       "       [-6,  3]])"
      ]
     },
     "execution_count": 9,
     "metadata": {},
     "output_type": "execute_result"
    }
   ],
   "source": [
    "np.array([[2,-1],\n",
    "          [-6,3]])"
   ]
  },
  {
   "cell_type": "markdown",
   "metadata": {},
   "source": [
    "- Dimension of solution = 1\n",
    "- Rank = 1"
   ]
  },
  {
   "cell_type": "markdown",
   "metadata": {},
   "source": [
    "### Rank of Matrix: General Case"
   ]
  },
  {
   "cell_type": "markdown",
   "metadata": {},
   "source": [
    "#### Material"
   ]
  },
  {
   "cell_type": "markdown",
   "metadata": {},
   "source": [
    "System:\n",
    "\n",
    "- $a + b + c = 0$\n",
    "- $a + 2b + c = 0$\n",
    "- $a + b + 2c = 0$"
   ]
  },
  {
   "cell_type": "markdown",
   "metadata": {},
   "source": [
    "- 3 Equations\n",
    "- 3 Pieces of Informations\n",
    "- Rank = 3"
   ]
  },
  {
   "cell_type": "markdown",
   "metadata": {},
   "source": [
    "System:\n",
    "\n",
    "- $a + b + c = 0$\n",
    "- $a + b + 2c = 0$ [X]\n",
    "- $a + b + 3c = 0$"
   ]
  },
  {
   "cell_type": "markdown",
   "metadata": {},
   "source": [
    "- 3 Equations\n",
    "- 2 Pieces of Informations\n",
    "- Rank = 2"
   ]
  },
  {
   "cell_type": "markdown",
   "metadata": {},
   "source": [
    "System:\n",
    "\n",
    "- $a + b + c = 0$\n",
    "- $2a + 2b + 2c = 0$ [X]\n",
    "- $3a + 3b + 3c = 0$ [X] "
   ]
  },
  {
   "cell_type": "markdown",
   "metadata": {},
   "source": [
    "- 3 Equations\n",
    "- 1 Pieces of Informations\n",
    "- Rank = 1"
   ]
  },
  {
   "cell_type": "markdown",
   "metadata": {},
   "source": [
    "### Reduced Row Echelon Form"
   ]
  },
  {
   "cell_type": "code",
   "execution_count": 144,
   "metadata": {},
   "outputs": [],
   "source": [
    "import sympy as sp"
   ]
  },
  {
   "cell_type": "markdown",
   "metadata": {},
   "source": [
    "Full rank"
   ]
  },
  {
   "cell_type": "code",
   "execution_count": 158,
   "metadata": {},
   "outputs": [],
   "source": [
    "matrix_1 = sp.Matrix([[5,1],\n",
    "                      [4,-3]])"
   ]
  },
  {
   "cell_type": "code",
   "execution_count": 159,
   "metadata": {},
   "outputs": [
    {
     "data": {
      "text/plain": [
       "(Matrix([\n",
       " [1, 0],\n",
       " [0, 1]]),\n",
       " (0, 1))"
      ]
     },
     "execution_count": 159,
     "metadata": {},
     "output_type": "execute_result"
    }
   ],
   "source": [
    "matrix_1.rref()"
   ]
  },
  {
   "cell_type": "code",
   "execution_count": 160,
   "metadata": {},
   "outputs": [
    {
     "data": {
      "text/plain": [
       "2"
      ]
     },
     "execution_count": 160,
     "metadata": {},
     "output_type": "execute_result"
    }
   ],
   "source": [
    "matrix_1.rank()"
   ]
  },
  {
   "cell_type": "code",
   "execution_count": 161,
   "metadata": {},
   "outputs": [],
   "source": [
    "matrix_2 = sp.Matrix([[5,1],\n",
    "                      [10,2]])"
   ]
  },
  {
   "cell_type": "code",
   "execution_count": 162,
   "metadata": {},
   "outputs": [
    {
     "data": {
      "text/plain": [
       "(Matrix([\n",
       " [1, 1/5],\n",
       " [0,   0]]),\n",
       " (0,))"
      ]
     },
     "execution_count": 162,
     "metadata": {},
     "output_type": "execute_result"
    }
   ],
   "source": [
    "matrix_2.rref()"
   ]
  },
  {
   "cell_type": "code",
   "execution_count": 163,
   "metadata": {},
   "outputs": [
    {
     "data": {
      "text/plain": [
       "1"
      ]
     },
     "execution_count": 163,
     "metadata": {},
     "output_type": "execute_result"
    }
   ],
   "source": [
    "matrix_2.rank()"
   ]
  },
  {
   "cell_type": "code",
   "execution_count": 164,
   "metadata": {},
   "outputs": [],
   "source": [
    "matrix_3 = sp.Matrix([[0,0],\n",
    "                      [0,0]])"
   ]
  },
  {
   "cell_type": "code",
   "execution_count": 165,
   "metadata": {},
   "outputs": [
    {
     "data": {
      "text/plain": [
       "(Matrix([\n",
       " [0, 0],\n",
       " [0, 0]]),\n",
       " ())"
      ]
     },
     "execution_count": 165,
     "metadata": {},
     "output_type": "execute_result"
    }
   ],
   "source": [
    "matrix_3.rref()"
   ]
  },
  {
   "cell_type": "code",
   "execution_count": 166,
   "metadata": {},
   "outputs": [
    {
     "data": {
      "text/plain": [
       "0"
      ]
     },
     "execution_count": 166,
     "metadata": {},
     "output_type": "execute_result"
    }
   ],
   "source": [
    "matrix_3.rank()"
   ]
  },
  {
   "cell_type": "markdown",
   "metadata": {},
   "source": [
    "### Keypoints"
   ]
  },
  {
   "cell_type": "markdown",
   "metadata": {},
   "source": [
    "- When the solution set is finite (Non-Singular), it is reduced to a single element\n",
    "    - e.g: $(x=3,\\;y=-2,\\;z=6)$ or $(3, -2, 6)$\n",
    "- To describe a set with an infinite number of solutions (Singular), typically some of the variables are designated as free (or independent, or as parameters).\n",
    "    - e.g: $x = -7z -1$ and $y = 3z + 2$\n",
    "    - $z$ is the free variable, while $x$ and $y$ are dependent on $z$\n",
    "- Each free variable gives the solution space one degree of freedom, the number of which is equal to the dimension of the solution set\n",
    "- There are several algorithms for solving a system of linear equations.\n",
    "    1. Elimination of variables\n",
    "    2. Row reduction\n",
    "    3. Cramer's rule\n",
    "    4. Matrix Solution\n",
    "        - If the matrix A is square (has m rows and n=m columns) and has full rank (all m rows are independent), then the system has a unique solution"
   ]
  }
 ],
 "metadata": {
  "kernelspec": {
   "display_name": "ml",
   "language": "python",
   "name": "python3"
  },
  "language_info": {
   "codemirror_mode": {
    "name": "ipython",
    "version": 3
   },
   "file_extension": ".py",
   "mimetype": "text/x-python",
   "name": "python",
   "nbconvert_exporter": "python",
   "pygments_lexer": "ipython3",
   "version": "0.0.0"
  }
 },
 "nbformat": 4,
 "nbformat_minor": 2
}
