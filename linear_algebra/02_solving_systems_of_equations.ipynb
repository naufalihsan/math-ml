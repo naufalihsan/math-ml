{
 "cells": [
  {
   "cell_type": "code",
   "execution_count": 1,
   "metadata": {},
   "outputs": [],
   "source": [
    "import numpy as np\n",
    "import matplotlib.pyplot as plt"
   ]
  },
  {
   "cell_type": "markdown",
   "metadata": {},
   "source": [
    "### Solving Non-Singular System of Linear Equations"
   ]
  },
  {
   "cell_type": "markdown",
   "metadata": {},
   "source": [
    "#### Material"
   ]
  },
  {
   "cell_type": "markdown",
   "metadata": {},
   "source": [
    "Process Manipulating Equations:\n",
    "- Swapping equations\n",
    "- Adding / subtracting equations\n",
    "- Multiplying / dividing equations by a constant"
   ]
  },
  {
   "cell_type": "markdown",
   "metadata": {},
   "source": [
    "**System:**\n",
    "\n",
    "- $5a + b = 17$\n",
    "- $4a - 3b = 6$"
   ]
  },
  {
   "cell_type": "markdown",
   "metadata": {},
   "source": [
    "Divide by coefficient of a\n",
    "\n",
    "\\begin{align*}\n",
    "    a + 0.2b &= 3.4     \\\\\n",
    "    a - 0.75b &= 1.5    \\\\\n",
    "                        \\\\\n",
    "    0.95b &= 1.9        \\\\\n",
    "    b &= 2              \\\\\n",
    "    a &= 3\n",
    "\\end{align*}\n",
    "\n",
    "Solved System:\n",
    "- $a = 3$\n",
    "- $b = 2$"
   ]
  },
  {
   "cell_type": "markdown",
   "metadata": {},
   "source": [
    "#### Quiz"
   ]
  },
  {
   "cell_type": "markdown",
   "metadata": {},
   "source": [
    "System:\n",
    "\n",
    "- $2a + 5b = 46$\n",
    "- $8a + b = 32$"
   ]
  },
  {
   "cell_type": "markdown",
   "metadata": {},
   "source": [
    "Step 1: Multiply Eq I with constant 4\n",
    "\n",
    "- $(2a + 5b = 46) * 4 = (8a + 10b = 184)$\n",
    "\n",
    "Step 2: Subtract Eq from Step 1 and Eq II\n",
    "\n",
    "\\begin{align*}\n",
    "    8a + 20b &= 184     \\\\\n",
    "    8a + b &= 32        \\\\\n",
    "                        \\\\\n",
    "    19b &= 152          \\\\\n",
    "    b   &= 8            \\\\\n",
    "    a   &= 3a\n",
    "\\end{align*}\n",
    "\n",
    "Solved System:\n",
    "- $a = 3$\n",
    "- $b = 8a$"
   ]
  },
  {
   "cell_type": "markdown",
   "metadata": {},
   "source": [
    "### Solving Singular System of Linear Equations"
   ]
  },
  {
   "cell_type": "markdown",
   "metadata": {},
   "source": [
    "#### Material"
   ]
  },
  {
   "cell_type": "markdown",
   "metadata": {},
   "source": [
    "**System: (Redundant)**\n",
    "\n",
    "- $a + b = 10$\n",
    "- $2a + 2b = 20$"
   ]
  },
  {
   "cell_type": "markdown",
   "metadata": {},
   "source": [
    "Step 1: Divide Eq II with constant 2\n",
    "\n",
    "- $(2a + 2b = 20) / 2 = (a + b = 10)$\n",
    "\n",
    "Step 2: Subtract Eq from Step 1 and Eq II\n",
    "\n",
    "\\begin{align*}\n",
    "    a + b &= 10     \\\\\n",
    "    a + b &= 10     \\\\\n",
    "                    \\\\\n",
    "    0 &= 0          \n",
    "\\end{align*}\n",
    "\n",
    "Solved System:\n",
    "1. Degree of freedom\n",
    "    - $a = x$\n",
    "    - $b = 10 - x$\n",
    "2. $a + b = 10$"
   ]
  },
  {
   "cell_type": "markdown",
   "metadata": {},
   "source": [
    "**System: (Contradictory)**\n",
    "\n",
    "- $a + b = 10$\n",
    "- $2a + 2b = 24$"
   ]
  },
  {
   "cell_type": "markdown",
   "metadata": {},
   "source": [
    "Step 1: Divide Eq II with constant 2\n",
    "\n",
    "- $(2a + 2b = 24) / 2 = (a + b = 12)$\n",
    "\n",
    "Step 2: Subtract Eq from Step 1 and Eq II\n",
    "\n",
    "\\begin{align*}\n",
    "    a + b &= 10     \\\\\n",
    "    a + b &= 12     \\\\\n",
    "                    \\\\\n",
    "    0 &= 2          \n",
    "\\end{align*}\n",
    "\n",
    "No solved system"
   ]
  },
  {
   "cell_type": "markdown",
   "metadata": {},
   "source": [
    "#### Quiz"
   ]
  },
  {
   "cell_type": "markdown",
   "metadata": {},
   "source": [
    "**System: (Redundant)**\n",
    "\n",
    "- $5a + b = 11$\n",
    "- $10a + 2b = 22$"
   ]
  },
  {
   "cell_type": "markdown",
   "metadata": {},
   "source": [
    "Step 1: Multiply Eq I with constant 2\n",
    "\n",
    "- $(5a + b = 11) * 2 = (10a + 2b = 22)$\n",
    "\n",
    "Step 2: Subtract Eq from Step 1 and Eq II\n",
    "\n",
    "\\begin{align*}\n",
    "    10a + 2b &= 22     \\\\\n",
    "    10a + 2b &= 22     \\\\\n",
    "                        \\\\\n",
    "    0 &= 0          \n",
    "\\end{align*}\n",
    "\n",
    "\n",
    "Solved System (Infinite Solutions):\n",
    "1. Degree of freedom\n",
    "    - $a = x$\n",
    "    - $b = 11 - 5x$\n",
    "2. $5a + b = 11$"
   ]
  },
  {
   "cell_type": "markdown",
   "metadata": {},
   "source": [
    "### Solving System of Equations with More Variables"
   ]
  },
  {
   "cell_type": "markdown",
   "metadata": {},
   "source": []
  }
 ],
 "metadata": {
  "kernelspec": {
   "display_name": "ml",
   "language": "python",
   "name": "python3"
  },
  "language_info": {
   "codemirror_mode": {
    "name": "ipython",
    "version": 3
   },
   "file_extension": ".py",
   "mimetype": "text/x-python",
   "name": "python",
   "nbconvert_exporter": "python",
   "pygments_lexer": "ipython3",
   "version": "3.11.7"
  }
 },
 "nbformat": 4,
 "nbformat_minor": 2
}
